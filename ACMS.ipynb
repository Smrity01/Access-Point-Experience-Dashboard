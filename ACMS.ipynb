{
 "cells": [
  {
   "cell_type": "code",
   "execution_count": 7,
   "metadata": {},
   "outputs": [],
   "source": [
    "import Twitter\n",
    "import Youtube\n",
    "import time"
   ]
  },
  {
   "cell_type": "code",
   "execution_count": 8,
   "metadata": {},
   "outputs": [],
   "source": [
    "def thread_Youtube():\n",
    "# Objective : To run Youtube.py at an interval of 5 min \n",
    "    while(True):\n",
    "        Youtube.main() \n",
    "        time.sleep(5*60)"
   ]
  },
  {
   "cell_type": "code",
   "execution_count": 9,
   "metadata": {},
   "outputs": [],
   "source": [
    "def thread_Twitter():\n",
    "# Objective : To run Twitter.py at an interval of 5 min \n",
    "    while(True):\n",
    "        Twitter.main() \n",
    "        time.sleep(5*60)"
   ]
  },
  {
   "cell_type": "code",
   "execution_count": null,
   "metadata": {},
   "outputs": [
    {
     "name": "stdout",
     "output_type": "stream",
     "text": [
      "Don t forget we have an amazon locker in store never miss your orders again amazonlocker amazon amazondelivery \n",
      " 2019-06-05 10:54:01 \n",
      " Kingston upon Thames, London \n",
      "\n",
      "\n",
      "Check it out now has AmazonLockers Get your parcels delivered to these lockers and collect at \n",
      " 2019-06-06 08:51:47 \n",
      " Croft Rd Coventry CV1 3AZ, England \n",
      "\n",
      "\n",
      "Amazon credits AI driven enhancements and mathematical optimizations for Locker growth DataScience \n",
      " 2019-06-12 13:30:19 \n",
      " Minneapolis, MN \n",
      "\n",
      "\n"
     ]
    }
   ],
   "source": [
    "\n",
    "\n",
    "import threading\n",
    "if __name__ == \"__main__\": \n",
    "    '''\n",
    "        Objective: To run Twitter and Youtube script parallely\n",
    "    '''\n",
    "    t1 = threading.Thread(target = thread_Youtube)\n",
    "    t2 = threading.Thread(target = thread_Twitter)\n",
    "    try:\n",
    "        t1.start()\n",
    "        t2.start()\n",
    "        t1.join()\n",
    "        t2.join()\n",
    "    except thread.error as error:\n",
    "         print(\"Error : \" + str(error))"
   ]
  },
  {
   "cell_type": "code",
   "execution_count": null,
   "metadata": {},
   "outputs": [],
   "source": []
  }
 ],
 "metadata": {
  "kernelspec": {
   "display_name": "Python 3",
   "language": "python",
   "name": "python3"
  },
  "language_info": {
   "codemirror_mode": {
    "name": "ipython",
    "version": 3
   },
   "file_extension": ".py",
   "mimetype": "text/x-python",
   "name": "python",
   "nbconvert_exporter": "python",
   "pygments_lexer": "ipython3",
   "version": "3.7.0"
  }
 },
 "nbformat": 4,
 "nbformat_minor": 2
}
