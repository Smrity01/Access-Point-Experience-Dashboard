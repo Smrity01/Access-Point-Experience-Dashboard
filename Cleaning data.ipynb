{
 "cells": [
  {
   "cell_type": "code",
   "execution_count": 11,
   "metadata": {},
   "outputs": [
    {
     "name": "stdout",
     "output_type": "stream",
     "text": [
      "    Unnamed: 0  Unnamed: 0.1  Unnamed: 0.1.1  \\\n",
      "0            0             0               0   \n",
      "1            1             1               1   \n",
      "2            2             2               2   \n",
      "3            3             3               3   \n",
      "4            4             4               4   \n",
      "5            5             5               5   \n",
      "6            6             6               6   \n",
      "7            7             7               7   \n",
      "8            8             8               8   \n",
      "9            9             9               9   \n",
      "10          10            10              10   \n",
      "11          11            11              11   \n",
      "12          12            12              12   \n",
      "\n",
      "                                              Comment Location  \\\n",
      "0                                         ilovepink86       GB   \n",
      "1                                           jubeiBrow   London   \n",
      "2                                          mochakreme       US   \n",
      "3                                              Zardoz       US   \n",
      "4                                                 Viq   London   \n",
      "5                                        Pocket pussy       US   \n",
      "6                                   420GratefulHippie       DK   \n",
      "7                                              OhhMyy       GB   \n",
      "8   Movies, Amazon Music, Free delivery (on select...   London   \n",
      "9                                          LilMizzLae   France   \n",
      "10                                     beingsshepherd   France   \n",
      "11                                       DerpiestNoob   France   \n",
      "12  I assume you were around mostly British people...       US   \n",
      "\n",
      "                                               UserId  Compound  Negative  \\\n",
      "0   Looks like I have to start using this since so...   -0.0772      13.8   \n",
      "1        This was the best how to video. Thanks chap!    0.8122       0.0   \n",
      "2   Thank you, I wasn\\u2019t sure what to expect i...    0.5859       0.0   \n",
      "3   Pretty much nonsense to put an Amazon Locker i...    0.2960      13.8   \n",
      "4                This video is extremely British lol.    0.4728       0.0   \n",
      "5                                              xPikez    0.0000       0.0   \n",
      "6   Nice video but the information is out of date....    0.6731       0.0   \n",
      "7                     Lol great how to video. Thanks!    0.8777       0.0   \n",
      "8                                        MegaAgente17    0.7579       0.0   \n",
      "9   Your accent reminds me of Mr. Bean for some re...    0.5719      11.3   \n",
      "10  Very clear and helpful. Thank you Techmoan.\\nI...    0.9179       0.0   \n",
      "11  Letting kids buy gift cards and buy underaged ...    0.6486       0.0   \n",
      "12                                            Eluziv3    0.0000       0.0   \n",
      "\n",
      "    neutral  positive  \n",
      "0      73.9      12.3  \n",
      "1      48.6      51.4  \n",
      "2      65.2      34.8  \n",
      "3      61.2      25.0  \n",
      "4      61.9      38.1  \n",
      "5     100.0       0.0  \n",
      "6      89.6      10.4  \n",
      "7      22.9      77.1  \n",
      "8      66.7      33.3  \n",
      "9      64.8      23.9  \n",
      "10     56.3      43.7  \n",
      "11     60.2      39.8  \n",
      "12    100.0       0.0  \n"
     ]
    }
   ],
   "source": [
    "import pandas\n",
    "import numpy\n",
    "import random\n",
    "data = pandas.read_csv('output.csv')\n",
    "data = data[0:]\n",
    "print(data)"
   ]
  },
  {
   "cell_type": "code",
   "execution_count": 24,
   "metadata": {},
   "outputs": [
    {
     "name": "stdout",
     "output_type": "stream",
     "text": [
      "0      \n",
      "1      \n",
      "2      \n",
      "3      \n",
      "4      \n",
      "5      \n",
      "6      \n",
      "7      \n",
      "8      \n",
      "9      \n",
      "10     \n",
      "11     \n",
      "12     \n",
      "Name: Location, dtype: object\n"
     ]
    }
   ],
   "source": [
    "print(data['Location'])"
   ]
  },
  {
   "cell_type": "code",
   "execution_count": 9,
   "metadata": {},
   "outputs": [],
   "source": [
    "countries = [ 'US' , 'NY','GB' ,'MX' ,'London' ,'DK','France']\n",
    "data['Location']=data['Location'].apply(lambda x:random.choice(countries))"
   ]
  },
  {
   "cell_type": "code",
   "execution_count": 3,
   "metadata": {},
   "outputs": [
    {
     "name": "stdout",
     "output_type": "stream",
     "text": [
      "0         GB\n",
      "1         DK\n",
      "2         NY\n",
      "3         GB\n",
      "4         DK\n",
      "5         US\n",
      "6         US\n",
      "7     London\n",
      "8         MX\n",
      "9         NY\n",
      "10        GB\n",
      "11    France\n",
      "12        DK\n",
      "Name: Location, dtype: object\n"
     ]
    }
   ],
   "source": [
    "print(data['Location'])"
   ]
  },
  {
   "cell_type": "code",
   "execution_count": 10,
   "metadata": {},
   "outputs": [],
   "source": [
    "data.to_csv('output.csv',index = False)"
   ]
  },
  {
   "cell_type": "code",
   "execution_count": 15,
   "metadata": {
    "scrolled": true
   },
   "outputs": [
    {
     "name": "stdout",
     "output_type": "stream",
     "text": [
      "   Unnamed: 0                                              Tweet  \\\n",
      "0           0  RT ad This year I m buying all my festival ess...   \n",
      "1           1  Amazon sets up temp AmazonLockers site at Coac...   \n",
      "2           2  NEWSALERT Walmart Is Beating Amazon in a Busin...   \n",
      "3           3                     With and what more do you need   \n",
      "4           4  This is how treats your packages I remind the ...   \n",
      "\n",
      "       Location User Id  Compound  Negative  Neutral  Positive  \n",
      "0            DK            0.4939       0.0     77.5      22.5  \n",
      "1  New York, NY            0.6705       0.0     69.8      30.2  \n",
      "2        London           -0.1027      20.5     54.8      24.7  \n",
      "3            NY            0.0000       0.0    100.0       0.0  \n",
      "4            US            0.0000       0.0    100.0       0.0  \n"
     ]
    }
   ],
   "source": [
    "data = pandas.read_csv('tweety.csv')\n",
    "print(data)"
   ]
  },
  {
   "cell_type": "code",
   "execution_count": 13,
   "metadata": {},
   "outputs": [],
   "source": [
    "data['Location'] = data['Location'].replace(numpy.nan, random.choice(countries))"
   ]
  },
  {
   "cell_type": "code",
   "execution_count": 39,
   "metadata": {},
   "outputs": [
    {
     "name": "stdout",
     "output_type": "stream",
     "text": [
      "                                               Tweet      Location User Id  \\\n",
      "0  RT ad This year I m buying all my festival ess...            DK           \n",
      "1  Amazon sets up temp AmazonLockers site at Coac...  New York, NY           \n",
      "2  NEWSALERT Walmart Is Beating Amazon in a Busin...        London           \n",
      "3                     With and what more do you need            NY           \n",
      "4  This is how treats your packages I remind the ...            US           \n",
      "\n",
      "   Compound  Negative  Neutral  Positive  \n",
      "0    0.4939       0.0     77.5      22.5  \n",
      "1    0.6705       0.0     69.8      30.2  \n",
      "2   -0.1027      20.5     54.8      24.7  \n",
      "3    0.0000       0.0    100.0       0.0  \n",
      "4    0.0000       0.0    100.0       0.0  \n"
     ]
    }
   ],
   "source": [
    "print(data)"
   ]
  },
  {
   "cell_type": "code",
   "execution_count": 14,
   "metadata": {},
   "outputs": [],
   "source": [
    "data.to_csv('tweety.csv',index = False)"
   ]
  }
 ],
 "metadata": {
  "kernelspec": {
   "display_name": "Python 3",
   "language": "python",
   "name": "python3"
  },
  "language_info": {
   "codemirror_mode": {
    "name": "ipython",
    "version": 3
   },
   "file_extension": ".py",
   "mimetype": "text/x-python",
   "name": "python",
   "nbconvert_exporter": "python",
   "pygments_lexer": "ipython3",
   "version": "3.7.0"
  }
 },
 "nbformat": 4,
 "nbformat_minor": 2
}
